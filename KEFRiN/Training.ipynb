{
 "cells": [
  {
   "cell_type": "code",
   "execution_count": 3,
   "id": "painful-rescue",
   "metadata": {},
   "outputs": [],
   "source": [
    "import numpy as np\n",
    "from KEFRiN import *\n",
    "from sklearn import metrics\n",
    "import processing_tools as pt"
   ]
  },
  {
   "cell_type": "markdown",
   "id": "removable-impact",
   "metadata": {},
   "source": [
    "### Load dataset"
   ]
  },
  {
   "cell_type": "code",
   "execution_count": 4,
   "id": "sweet-pastor",
   "metadata": {},
   "outputs": [
    {
     "name": "stdout",
     "output_type": "stream",
     "text": [
      "(2405, 2405) (2405, 4973) (2405,)\n"
     ]
    }
   ],
   "source": [
    "p = np.load(\"/Users/admin/Desktop/nitin/CS274/Data/Wiki/p.npy\")\n",
    "y = np.load(\"/Users/admin/Desktop/nitin/CS274/Data/Wiki/y.npy\")\n",
    "gt = np.load(\"/Users/admin/Desktop/nitin/CS274/Data/Wiki/gt.npy\")\n",
    "\n",
    "print(p.shape, y.shape, gt.shape)"
   ]
  },
  {
   "cell_type": "code",
   "execution_count": 5,
   "id": "e721e108",
   "metadata": {},
   "outputs": [
    {
     "data": {
      "text/plain": [
       "array([ 0,  1,  2,  3,  4,  5,  6,  7,  8,  9, 10, 11, 12, 13, 14, 15, 16])"
      ]
     },
     "execution_count": 5,
     "metadata": {},
     "output_type": "execute_result"
    }
   ],
   "source": [
    "np.unique(gt)"
   ]
  },
  {
   "cell_type": "markdown",
   "id": "brazilian-underwear",
   "metadata": {},
   "source": [
    "### preprocessing the data"
   ]
  },
  {
   "cell_type": "code",
   "execution_count": 6,
   "id": "resident-basin",
   "metadata": {},
   "outputs": [],
   "source": [
    "p_, _, p_z, _, p_rng, _, _,_,_,_,_,_ = pt.preprocess_p(p)\n",
    "y_, _, y_z, _, y_rng, _, = pt.preprocess_y(y_in=y, data_type='C')"
   ]
  },
  {
   "cell_type": "code",
   "execution_count": 7,
   "id": "a06860f1",
   "metadata": {},
   "outputs": [
    {
     "data": {
      "text/plain": [
       "array([8, 8, 8, ..., 8, 8, 8])"
      ]
     },
     "execution_count": 7,
     "metadata": {},
     "output_type": "execute_result"
    }
   ],
   "source": [
    "gt"
   ]
  },
  {
   "cell_type": "markdown",
   "id": "liked-spell",
   "metadata": {},
   "source": [
    "## Applying KEFRiN\n",
    "\n",
    "### KEFRiNe"
   ]
  },
  {
   "cell_type": "code",
   "execution_count": 8,
   "id": "weekly-nitrogen",
   "metadata": {},
   "outputs": [],
   "source": [
    "KEFRiNe_results = EkifenMin(y=y_, p=p_, rho=1, xi=1,\n",
    "                         n_clusters=17, kmean_pp=1, euclidean=1,\n",
    "                         cosine=0, max_iteration=1000,manhattan=0).apply_ekifen()"
   ]
  },
  {
   "cell_type": "code",
   "execution_count": 9,
   "id": "hearing-healing",
   "metadata": {},
   "outputs": [
    {
     "data": {
      "text/plain": [
       "array([0, 0, 0, ..., 0, 0, 0])"
      ]
     },
     "execution_count": 9,
     "metadata": {},
     "output_type": "execute_result"
    }
   ],
   "source": [
    "KEFRiNe_results"
   ]
  },
  {
   "cell_type": "markdown",
   "id": "824262f2",
   "metadata": {},
   "source": [
    "\n",
    "### KEFRiNc"
   ]
  },
  {
   "cell_type": "code",
   "execution_count": 10,
   "id": "animal-cylinder",
   "metadata": {},
   "outputs": [],
   "source": [
    "KEFRiNc_results = EkifenMin(y=y_, p=p_, rho=1, xi=1,\n",
    "                         n_clusters=17, kmean_pp=1, euclidean=0,\n",
    "                         cosine=1, max_iteration=1000,manhattan=0).apply_ekifen()"
   ]
  },
  {
   "cell_type": "code",
   "execution_count": 11,
   "id": "98c5dbea",
   "metadata": {},
   "outputs": [
    {
     "data": {
      "text/plain": [
       "array([14,  2, 14, ..., 14,  2,  4])"
      ]
     },
     "execution_count": 11,
     "metadata": {},
     "output_type": "execute_result"
    }
   ],
   "source": [
    "KEFRiNc_results"
   ]
  },
  {
   "cell_type": "markdown",
   "id": "41465127",
   "metadata": {},
   "source": [
    "## Results"
   ]
  },
  {
   "cell_type": "code",
   "execution_count": 12,
   "id": "entitled-hearing",
   "metadata": {},
   "outputs": [
    {
     "name": "stdout",
     "output_type": "stream",
     "text": [
      "KEFRiNe ARI: 0.00520070438657368\n",
      "KEFRiNe NMI 0.05930440914790197\n"
     ]
    }
   ],
   "source": [
    "print(\"KEFRiNe ARI:\", metrics.adjusted_rand_score(gt, KEFRiNe_results))\n",
    "print(\"KEFRiNe NMI\", metrics.normalized_mutual_info_score(gt,KEFRiNe_results))"
   ]
  },
  {
   "cell_type": "code",
   "execution_count": 13,
   "id": "a59a229e",
   "metadata": {},
   "outputs": [
    {
     "name": "stdout",
     "output_type": "stream",
     "text": [
      "KEFRiNc ARI: 0.21800136992998215\n",
      "KEFRiNc NMI 0.3846064536245635\n"
     ]
    }
   ],
   "source": [
    "print(\"KEFRiNc ARI:\", metrics.adjusted_rand_score(gt, KEFRiNc_results))\n",
    "print(\"KEFRiNc NMI\", metrics.normalized_mutual_info_score(gt,KEFRiNc_results))"
   ]
  }
 ],
 "metadata": {
  "kernelspec": {
   "display_name": "Python 3 (ipykernel)",
   "language": "python",
   "name": "python3"
  },
  "language_info": {
   "codemirror_mode": {
    "name": "ipython",
    "version": 3
   },
   "file_extension": ".py",
   "mimetype": "text/x-python",
   "name": "python",
   "nbconvert_exporter": "python",
   "pygments_lexer": "ipython3",
   "version": "3.9.7"
  }
 },
 "nbformat": 4,
 "nbformat_minor": 5
}
